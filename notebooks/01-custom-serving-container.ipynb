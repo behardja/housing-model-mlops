{
 "cells": [
  {
   "cell_type": "markdown",
   "id": "b71d4753-54da-4739-87e4-a7f353e785b3",
   "metadata": {},
   "source": [
    "# Build Customer Serving Containers that does not contain Model Artifact\n",
    "\n",
    "This notebooks demonstrates building a serving container that leverages Vertex AI's AIP_STORAGE_URI environment variable, where the container downloads models directly from Cloud Storage at startup, keeping the image lightweight and adaptable.\n",
    "\n",
    "The pipeline developed in [02-model_pipeline.ipynb](./02-model_pipeline.ipynb) uses these assets to register a model to Model Registry by specifying the `custom serving image` along with the `artifact_uri` parameters.\n",
    "\n",
    "![serving-container.png](./diagrams/serving-container.png)\n",
    "\n",
    "Documenation for [Accessing Model Artifacts](https://cloud.google.com/vertex-ai/docs/predictions/custom-container-requirements#artifacts)"
   ]
  },
  {
   "cell_type": "markdown",
   "id": "4c56d798-4cd7-44f5-ae13-f36787563c95",
   "metadata": {},
   "source": [
    "## Build custom Serving container\n",
    "\n",
    "Users define image parameters of a custom serving container based on a Python-based FastAPI application (main.py) and Dockerfile. It then runs through the steps to build the custom container image and push it to Google Cloud Artifact Registry\n",
    "\n",
    "- `PROJECT_ID`: Your Google Cloud Project ID.\n",
    "- `REGION`: The Google Cloud region where your resources will be deployed (e.g., Vertex AI, Artifact Registry).\n",
    "- `REPO_NAME`: Name of the Artifact Registry repository to store the custom serving container image.\n",
    "- `JOB_IMAGE_ID`: Name of the Docker image for the custom serving container.\n",
    "- `VERSION`: Version or tag of the Docker image. Default set as latest.\n",
    "- `model_file`: The filename of the serialized model artifact (e.g., .pkl) to be loaded from Cloud Storage.\n",
    "- `BUCKET_URI`: The Google Cloud Storage URI where model artifacts are located.\n",
    "- `SERVICE_ACCOUNT`: The Google Cloud service account used for permissions during Vertex AI operations.\n"
   ]
  },
  {
   "cell_type": "code",
   "execution_count": null,
   "id": "5f218685-d7e9-45f5-beb8-c5f9fee09317",
   "metadata": {
    "tags": []
   },
   "outputs": [],
   "source": [
    "import os"
   ]
  },
  {
   "cell_type": "code",
   "execution_count": null,
   "id": "a282d827-3c7b-490c-be6c-9fe5634bf19a",
   "metadata": {},
   "outputs": [],
   "source": [
    "# Image Parameters\n",
    "PROJECT_ID = \"sandbox-401718\"  # @param {type:\"string\"}\n",
    "REGION = \"us-central1\" # @param {type:\"string\"}\n",
    "VERSION=\"latest\" \n",
    "REPO_NAME=\"housing-poc\" # @param {type:\"string\"}\n",
    "JOB_IMAGE_ID=\"housing-poc-image\" # @param {type:\"string\"}\n",
    "\n",
    "# Cloud Storage \n",
    "model_file = \"house_price_model.pkl\"\n",
    "BUCKET_URI=f\"gs://{PROJECT_ID}-pred-benchmark/housing_models\" # e.g., where house_price_model.pkl is\n",
    "\n",
    "# Vertex Custom Job parameters\n",
    "SERVICE_ACCOUNT=\"757654702990-compute@developer.gserviceaccount.com\" # @param {type:\"string\"}"
   ]
  },
  {
   "cell_type": "code",
   "execution_count": null,
   "id": "0f85cc84-5d8c-4202-8a4b-4809ff96de43",
   "metadata": {},
   "outputs": [],
   "source": [
    "from google.cloud import aiplatform\n",
    "\n",
    "aiplatform.init(project=PROJECT_ID, location=REGION, staging_bucket=BUCKET_URI)"
   ]
  },
  {
   "cell_type": "code",
   "execution_count": null,
   "id": "35dfd77a-ddfb-4626-bcc3-b19b4dab5d5a",
   "metadata": {},
   "outputs": [],
   "source": [
    "%%writefile main.py\n",
    "\n",
    "## Example serving application\n",
    "\n",
    "\n",
    "import os\n",
    "from typing import List, Dict, Any  # Keep these\n",
    "\n",
    "import joblib\n",
    "from fastapi import FastAPI, HTTPException\n",
    "import pandas as pd\n",
    "from google.cloud import storage\n",
    "import logging\n",
    "from pydantic import BaseModel\n",
    "\n",
    "# Load your model\n",
    "\n",
    "model = None\n",
    "# InputType = Annotated[DataFrame[DataFrameModel], WithJsonSchema(DataFrameModel.to_json_schema())]\n",
    "# OutputType = Annotated[DataFrame[DataFrameModel], WithJsonSchema(DataFrameModel.to_json_schema())]\n",
    "\n",
    "app = FastAPI()\n",
    "\n",
    "class PredictionPayload(BaseModel):\n",
    "    instances: List[Dict[str, Any]]\n",
    "\n",
    "######## LOAD MODEL FROM GCS (Model artifact outside of container) #########\n",
    "AIP_STORAGE_URI = os.environ.get(\"AIP_STORAGE_URI\")\n",
    "if AIP_STORAGE_URI:\n",
    "    try:\n",
    "        bucket_name = AIP_STORAGE_URI.split(\"/\")[2]\n",
    "        blob_name = \"/\".join(AIP_STORAGE_URI.split(\"/\")[3:]) + \"/house_price_model.pkl\"\n",
    "        client = storage.Client()\n",
    "        bucket = client.bucket(bucket_name)\n",
    "        blob = bucket.blob(blob_name)\n",
    "        blob.download_to_filename(\"house_price_model.pkl\")\n",
    "        with open(\"house_price_model.pkl\", \"rb\") as f:\n",
    "            model = joblib.load(f)\n",
    "            print(\"model loaded!!!!\")\n",
    "    except Exception as e:\n",
    "        logging.error(f\"Error loading model: {e}\", exc_info=True)\n",
    "        model = None\n",
    "else:\n",
    "    logging.warning(\"AIP_STORAGE_URI not set. Model will not be loaded from GCS.\")\n",
    "\n",
    "\n",
    "@app.get(\"/health\")\n",
    "def health() -> dict[str, str]:\n",
    "    if model is None:\n",
    "        return {\"STATUS\": \"ERROR\", \"MESSAGE\": \"Model not loaded\"}\n",
    "    return {\"STATUS\": \"OK\"}\n",
    "\n",
    "@app.post(\"/predict/\")\n",
    "def predict(\n",
    "    payload: PredictionPayload,\n",
    ") -> Dict[str, List[Any]]:\n",
    "    if model is None:\n",
    "        raise HTTPException(\n",
    "            status_code=503, detail=\"Model is not available or failed to load.\"\n",
    "        )\n",
    "        \n",
    "    instances_data = payload.instances\n",
    "    pandas_df = pd.DataFrame(instances_data)\n",
    "\n",
    "    raw_predictions_numpy = model.predict(pandas_df)\n",
    "    predictions_list = raw_predictions_numpy.tolist()\n",
    "\n",
    "    return {\"predictions\": predictions_list}\n"
   ]
  },
  {
   "cell_type": "code",
   "execution_count": null,
   "id": "b3ecff35-3cdb-4469-9c2d-0d01a4c7b7e1",
   "metadata": {
    "tags": []
   },
   "outputs": [],
   "source": [
    "%%writefile Dockerfile\n",
    "\n",
    "FROM python:3.10-slim\n",
    "\n",
    "COPY ./requirements.txt /app/requirements.txt\n",
    "COPY ./main.py /app/main.py\n",
    "WORKDIR ./app\n",
    "\n",
    "RUN apt-get update && apt-get install gcc libffi-dev -y\n",
    "\n",
    "RUN pip install -r requirements.txt\n",
    "\n",
    "EXPOSE 8080\n",
    "\n",
    "CMD [\"uvicorn\", \"--host\", \"0.0.0.0\", \"--port\", \"8080\", \"main:app\"]"
   ]
  },
  {
   "cell_type": "code",
   "execution_count": null,
   "id": "51a8041b-ad31-4887-8101-eb1efdb07d4d",
   "metadata": {
    "tags": []
   },
   "outputs": [],
   "source": [
    "# Build and push image to reigstry\n",
    "! docker build -f ./Dockerfile -t {REGION}-docker.pkg.dev/{PROJECT_ID}/{REPO_NAME}/{JOB_IMAGE_ID}:{VERSION} .\n",
    "! gcloud auth configure-docker us-central1-docker.pkg.dev --quiet\n",
    "! docker push {REGION}-docker.pkg.dev/{PROJECT_ID}/{REPO_NAME}/{JOB_IMAGE_ID}:{VERSION}"
   ]
  },
  {
   "cell_type": "markdown",
   "id": "86a473e6-91e9-4ff6-b103-733274bad3a0",
   "metadata": {},
   "source": [
    "### Test Estimator locally\n",
    "\n",
    "Before deploying to Vertex AI, users can validate a custom serving container locally. You run the Docker image of the FastAPI application, setting up environment variables to simulate the Vertex AI prediction environment, and testing the `/predict` and `/health` endpoints with example inference requests.\n",
    "\n",
    "To access the deployed application from your web browser, navigate to the External IP address of your Google Cloud Compute Engine VM <br>\n",
    "Reference: https://cloud.google.com/compute/docs/ip-addresses#externaladdresses\n",
    "\n",
    "Example payload: <br>\n",
    "```{ \"instances\": [  {  \"LotFrontage\": 70.0,  \"LotArea\": 9.03777111,  \"HouseAge\": 61.0,  \"SaleType\": 8.0  } ] }```\n",
    "\n",
    "![inference.png](./diagrams/inference.png)\n",
    "\n",
    "\n",
    "\n",
    "<br>\n",
    "`image_id`: ID of the local docker image"
   ]
  },
  {
   "cell_type": "code",
   "execution_count": null,
   "id": "fc1736cf-c048-4e98-abee-a592798507ec",
   "metadata": {
    "tags": []
   },
   "outputs": [],
   "source": [
    "image_id = \"c13a5c977f3d\" # @param {type:\"string\"}"
   ]
  },
  {
   "cell_type": "code",
   "execution_count": null,
   "id": "fcc8f3fe-843c-4169-a6ec-2ce7460440d3",
   "metadata": {
    "tags": []
   },
   "outputs": [],
   "source": [
    "gcloud_config_path = os.path.expanduser(\"~/.config/gcloud\") # For GCS authentication"
   ]
  },
  {
   "cell_type": "code",
   "execution_count": 6,
   "id": "77c895ea-b744-40f0-9d72-4463fe1346bf",
   "metadata": {
    "tags": []
   },
   "outputs": [
    {
     "name": "stderr",
     "output_type": "stream",
     "text": [
      "\n",
      "KeyboardInterrupt\n",
      "\n"
     ]
    }
   ],
   "source": [
    "! docker run \\\n",
    "  -p 8181:8080 \\\n",
    "  -e AIP_HEALTH_ROUTE=\"/health\" \\\n",
    "  -e AIP_PREDICT_ROUTE=\"/predict\" \\\n",
    "  -e AIP_STORAGE_URI=\"{BUCKET_URI}\" \\\n",
    "  -v {gcloud_config_path}:/root/.config/gcloud:ro \\\n",
    "  --rm \\\n",
    "  \"$image_id\"                  "
   ]
  },
  {
   "cell_type": "markdown",
   "id": "80285c8a-7ae0-4b23-aeef-1613b2dfcaeb",
   "metadata": {
    "tags": []
   },
   "source": [
    "## Register Model (optional)\n",
    "\n",
    "Example code to show how to register your custom serving container alongside your separately stored model artifact within the Vertex AI Model Registry."
   ]
  },
  {
   "cell_type": "code",
   "execution_count": null,
   "id": "64bae7e3-bd22-4c69-a2e0-163d5461f2f5",
   "metadata": {
    "tags": []
   },
   "outputs": [],
   "source": [
    "# vertex_model = aiplatform.Model.upload(\n",
    "#         display_name=\"housing_model\",\n",
    "#         artifact_uri=f\"{BUCKET_URI}\",\n",
    "#         serving_container_image_uri=f\"{REGION}-docker.pkg.dev/{PROJECT_ID}/{REPO_NAME}/{JOB_IMAGE_ID}:{VERSION}\",\n",
    "#         serving_container_predict_route = \"/predict\",\n",
    "#         serving_container_health_route = \"/health\",\n",
    "#         serving_container_ports=[8080]\n",
    "#     )"
   ]
  }
 ],
 "metadata": {
  "environment": {
   "kernel": "conda-root-py",
   "name": "workbench-notebooks.m117",
   "type": "gcloud",
   "uri": "us-docker.pkg.dev/deeplearning-platform-release/gcr.io/workbench-notebooks:m117"
  },
  "kernelspec": {
   "display_name": "Python 3 (ipykernel) (Local)",
   "language": "python",
   "name": "conda-root-py"
  },
  "language_info": {
   "codemirror_mode": {
    "name": "ipython",
    "version": 3
   },
   "file_extension": ".py",
   "mimetype": "text/x-python",
   "name": "python",
   "nbconvert_exporter": "python",
   "pygments_lexer": "ipython3",
   "version": "3.10.13"
  }
 },
 "nbformat": 4,
 "nbformat_minor": 5
}
